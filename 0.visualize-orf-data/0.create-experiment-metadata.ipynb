{
 "cells": [
  {
   "cell_type": "code",
   "execution_count": 1,
   "metadata": {
    "collapsed": true
   },
   "outputs": [],
   "source": [
    "import pandas as pd\n",
    "import os\n",
    "import glob"
   ]
  },
  {
   "cell_type": "markdown",
   "metadata": {
    "collapsed": false,
    "pycharm": {
     "name": "#%% md\n"
    }
   },
   "source": [
    "Create experiment metadata table using the barcode_platemap.csv files"
   ]
  },
  {
   "cell_type": "code",
   "execution_count": 2,
   "metadata": {
    "collapsed": false,
    "pycharm": {
     "name": "#%%\n"
    }
   },
   "outputs": [],
   "source": [
    "col_order = ['Batch', 'Plate_Map_Name','Assay_Plate_Barcode', 'Type', 'Anomaly', 'Density', 'Polybrene']\n",
    "type_df = pd.DataFrame(\n",
    "    {\n",
    "        'Plate_Map_Name' : ['control',\n",
    "                            'JUMP-Target-2_compound_platemap',\n",
    "                            'JUMP-Target-1_compound_platemap',\n",
    "                            'bortezomib'],\n",
    "        'Type' : ['Untreated',\n",
    "                  'Target2',\n",
    "                  'Target1',\n",
    "                  'Bortezomib']\n",
    "    }\n",
    ")\n",
    "\n",
    "anomalous_plates = {\n",
    "    'dye': {\n",
    "        'Batch1': ['BR00121541',\n",
    "                   'BR00121540',\n",
    "                   'BR00121438',\n",
    "                   'BR00121439',\n",
    "                   'BR00121539',\n",
    "                   'BR00121537',\n",
    "                   'BR00121538',\n",
    "                   'BR00121557',\n",
    "                   'BR00121561',\n",
    "                   'BR00121564',\n",
    "                   'BR00121566',\n",
    "                   'BR00121558',\n",
    "                   'BR00121565',\n",
    "                   'BR00121563'],\n",
    "        'Batch5': 'all',\n",
    "        'Batch6': 'all',\n",
    "        'Batch7': 'all',\n",
    "        'Batch12': 'all'\n",
    "    },\n",
    "    'segmentation': {\n",
    "        'Batch3': ['BR00123613'],\n",
    "        'Batch9': ['BR00126054'],\n",
    "    },\n",
    "    'infection': {\n",
    "        'Batch4': ['BR00123787',\n",
    "                   'BR00123786',\n",
    "                   'BR00123785',\n",
    "                   'BR00123791',\n",
    "                   'BR00123790'],\n",
    "        'Batch13': ['BR00123539']\n",
    "    },\n",
    "    'other': {\n",
    "        'Batch2': ['BR00123528A']\n",
    "    }\n",
    "}\n",
    "\n",
    "seeding_density = {\n",
    "    '120': {\n",
    "        'Batch12': 'BR00126117',\n",
    "        'Batch13': 'BR00127146'\n",
    "    },\n",
    "    '80': {\n",
    "        'Batch12': 'BR00126116',\n",
    "        'Batch13': 'BR00127145'\n",
    "    },\n",
    "    '50': {\n",
    "        'Batch12': 'BR00126115',\n",
    "        'Batch13': 'BR00127148'\n",
    "    },\n",
    "    '20': {\n",
    "        'Batch12': 'BR00126114',\n",
    "        'Batch13': 'BR00127147'\n",
    "    }\n",
    "}"
   ]
  },
  {
   "cell_type": "code",
   "execution_count": 3,
   "metadata": {
    "collapsed": false,
    "pycharm": {
     "name": "#%%\n"
    }
   },
   "outputs": [],
   "source": [
    "# Read the csv files\n",
    "path = os.path.join('../jump-orf-data/metadata/platemaps/*/barcode_platemap.csv')\n",
    "files = glob.glob(path)\n",
    "df = pd.concat(\n",
    "    (\n",
    "        (\n",
    "            pd.read_csv(_)\n",
    "            .assign(Batch=_.split('/')[4].split('_')[-1])\n",
    "            .assign(Anomaly='none')\n",
    "            .assign(Density='100')\n",
    "        ) for _ in files),\n",
    "    ignore_index=True\n",
    ")"
   ]
  },
  {
   "cell_type": "code",
   "execution_count": 4,
   "metadata": {
    "collapsed": false,
    "pycharm": {
     "name": "#%%\n"
    }
   },
   "outputs": [],
   "source": [
    "# Assigning type\n",
    "df = df.merge(type_df, on='Plate_Map_Name', how='left')\n",
    "df.fillna('ORF', inplace=True)"
   ]
  },
  {
   "cell_type": "code",
   "execution_count": 5,
   "metadata": {
    "collapsed": false,
    "pycharm": {
     "name": "#%%\n"
    }
   },
   "outputs": [
    {
     "data": {
      "text/plain": [
       "ORF           237\n",
       "Target2        22\n",
       "Untreated      14\n",
       "Bortezomib      4\n",
       "Target1         4\n",
       "Name: Type, dtype: int64"
      ]
     },
     "execution_count": 5,
     "metadata": {},
     "output_type": "execute_result"
    }
   ],
   "source": [
    "# Print the number of plates of each Type\n",
    "df.Type.value_counts()"
   ]
  },
  {
   "cell_type": "code",
   "execution_count": 6,
   "metadata": {
    "collapsed": false,
    "pycharm": {
     "name": "#%%\n"
    }
   },
   "outputs": [],
   "source": [
    "# Add anomaly type to plates\n",
    "for anomaly in anomalous_plates:\n",
    "    for batch in anomalous_plates[anomaly]:\n",
    "        if anomalous_plates[anomaly][batch] == \"all\":\n",
    "            df.loc[df.Batch==batch, \"Anomaly\"] = anomaly\n",
    "        else:\n",
    "            for plate in anomalous_plates[anomaly][batch]:\n",
    "                df.loc[df.Assay_Plate_Barcode==plate, \"Anomaly\"] = anomaly"
   ]
  },
  {
   "cell_type": "code",
   "execution_count": 7,
   "metadata": {
    "collapsed": false,
    "pycharm": {
     "name": "#%%\n"
    }
   },
   "outputs": [
    {
     "data": {
      "text/plain": [
       "none            178\n",
       "dye              94\n",
       "infection         6\n",
       "segmentation      2\n",
       "other             1\n",
       "Name: Anomaly, dtype: int64"
      ]
     },
     "execution_count": 7,
     "metadata": {},
     "output_type": "execute_result"
    }
   ],
   "source": [
    "# Print the number of plates with each type of Anomaly\n",
    "df.Anomaly.value_counts()"
   ]
  },
  {
   "cell_type": "code",
   "execution_count": 8,
   "metadata": {
    "collapsed": false,
    "pycharm": {
     "name": "#%%\n"
    }
   },
   "outputs": [],
   "source": [
    "# Add seeding density\n",
    "for density in seeding_density:\n",
    "    for batch in seeding_density[density]:\n",
    "        plate = seeding_density[density][batch]\n",
    "        df.loc[df.Assay_Plate_Barcode==plate, \"Density\"] = density"
   ]
  },
  {
   "cell_type": "code",
   "execution_count": 9,
   "metadata": {
    "collapsed": false,
    "pycharm": {
     "name": "#%%\n"
    }
   },
   "outputs": [],
   "source": [
    "# Add Polybrene status\n",
    "orf_polybrene = pd.DataFrame({'Type': 'ORF', 'Polybrene': 'Present'}, index=[0])\n",
    "df = df.merge(orf_polybrene, on='Type',how='left')\n",
    "df.loc[df.Assay_Plate_Barcode==\"BR00121540\", \"Polybrene\"] = \"Present\"\n",
    "df.loc[df.Assay_Plate_Barcode==\"BR00121439\", \"Polybrene\"] = \"Present\"\n",
    "df.fillna(\"Absent\", inplace=True)"
   ]
  },
  {
   "cell_type": "code",
   "execution_count": 10,
   "metadata": {
    "collapsed": false,
    "pycharm": {
     "name": "#%%\n"
    }
   },
   "outputs": [],
   "source": [
    "# Sort rows and columns\n",
    "df = df.sort_values(by=['Batch','Plate_Map_Name','Assay_Plate_Barcode'], ignore_index=True)[col_order]\n"
   ]
  },
  {
   "cell_type": "code",
   "execution_count": 11,
   "metadata": {
    "collapsed": false,
    "pycharm": {
     "name": "#%%\n"
    }
   },
   "outputs": [],
   "source": [
    "df.to_csv('output/experiment-metadata.tsv', index=False, sep='\\t')"
   ]
  }
 ],
 "metadata": {
  "kernelspec": {
   "display_name": "Python 3.8.5 ('visualize-orf')",
   "language": "python",
   "name": "python3"
  },
  "language_info": {
   "codemirror_mode": {
    "name": "ipython",
    "version": 3
   },
   "file_extension": ".py",
   "mimetype": "text/x-python",
   "name": "python",
   "nbconvert_exporter": "python",
   "pygments_lexer": "ipython3",
   "version": "3.10.6 | packaged by conda-forge | (main, Aug 22 2022, 20:43:44) [Clang 13.0.1 ]"
  },
  "vscode": {
   "interpreter": {
    "hash": "43b291a087ee2f3344cc778033d0ed7dbf0ca68f700f0a88ca5d48f1d1fd6665"
   }
  }
 },
 "nbformat": 4,
 "nbformat_minor": 0
}
