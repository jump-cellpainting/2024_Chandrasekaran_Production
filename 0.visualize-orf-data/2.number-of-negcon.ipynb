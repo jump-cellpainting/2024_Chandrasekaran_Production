{
 "cells": [
  {
   "cell_type": "code",
   "execution_count": 1,
   "metadata": {},
   "outputs": [],
   "source": [
    "import pandas as pd"
   ]
  },
  {
   "attachments": {},
   "cell_type": "markdown",
   "metadata": {},
   "source": [
    "Count the number of negcon wellss in each plate."
   ]
  },
  {
   "cell_type": "code",
   "execution_count": 2,
   "metadata": {},
   "outputs": [],
   "source": [
    "well_metadata_df = pd.read_csv('../datasets/metadata/well.csv.gz')\n",
    "orf_metadata_df = (\n",
    "    pd.read_csv('../datasets/metadata/orf.csv.gz')\n",
    "    .query('Metadata_pert_type==\"negcon\"')\n",
    ")\n",
    "\n",
    "well_orf_metadata_df = well_metadata_df.merge(orf_metadata_df, on='Metadata_JCP2022', how='inner')"
   ]
  },
  {
   "cell_type": "code",
   "execution_count": 3,
   "metadata": {},
   "outputs": [
    {
     "name": "stdout",
     "output_type": "stream",
     "text": [
      "|   #negcon_wells |   #plates |\n",
      "|----------------:|----------:|\n",
      "|              12 |         5 |\n",
      "|              16 |       212 |\n",
      "|              20 |        15 |\n",
      "|              28 |         5 |\n"
     ]
    }
   ],
   "source": [
    "print(\n",
    "    well_orf_metadata_df.Metadata_Plate.value_counts()\n",
    "    .value_counts()\n",
    "    .reset_index()\n",
    "    .rename(columns={'index':'#negcon_wells', 'Metadata_Plate':'#plates'})\n",
    "    .sort_values(by=['#negcon_wells'])\n",
    "    .to_markdown(index=False)\n",
    ")"
   ]
  }
 ],
 "metadata": {
  "kernelspec": {
   "display_name": "visualize-orf",
   "language": "python",
   "name": "python3"
  },
  "language_info": {
   "codemirror_mode": {
    "name": "ipython",
    "version": 3
   },
   "file_extension": ".py",
   "mimetype": "text/x-python",
   "name": "python",
   "nbconvert_exporter": "python",
   "pygments_lexer": "ipython3",
   "version": "3.10.6 | packaged by conda-forge | (main, Aug 22 2022, 20:43:44) [Clang 13.0.1 ]"
  },
  "orig_nbformat": 4,
  "vscode": {
   "interpreter": {
    "hash": "43b291a087ee2f3344cc778033d0ed7dbf0ca68f700f0a88ca5d48f1d1fd6665"
   }
  }
 },
 "nbformat": 4,
 "nbformat_minor": 2
}
